{
 "cells": [
  {
   "cell_type": "code",
   "execution_count": 1,
   "metadata": {
    "collapsed": true
   },
   "outputs": [],
   "source": [
    "%matplotlib inline\n",
    "import matplotlib.pyplot as plt\n",
    "import time\n",
    "import six\n",
    "import numpy as np\n",
    "from sklearn.datasets import fetch_mldata\n",
    "import chainer\n",
    "from chainer import cuda, Function, gradient_check, Variable, optimizers, serializers, utils\n",
    "import chainer.functions as F\n",
    "import chainer.links as L"
   ]
  },
  {
   "cell_type": "code",
   "execution_count": 3,
   "metadata": {
    "collapsed": true
   },
   "outputs": [],
   "source": [
    "batchsize = 100\n",
    "n_epoch = 20\n",
    "n_units = 1000\n",
    "\n",
    "mnist = fetch_mldata('MNIST original')\n",
    "mnist.data = mnist.data.astype(np.float32)\n",
    "mnist.data /= 255\n",
    "\n",
    "mnist.target = mnist.target.astype(np.int32)"
   ]
  },
  {
   "cell_type": "code",
   "execution_count": 4,
   "metadata": {
    "collapsed": true
   },
   "outputs": [],
   "source": [
    "N = 60000\n",
    "x_train, x_test = np.split(mnist.data, [N])\n",
    "y_train, y_test = np.split(mnist.target, [N])\n",
    "N_test = y_test.size"
   ]
  },
  {
   "cell_type": "code",
   "execution_count": 5,
   "metadata": {
    "collapsed": true
   },
   "outputs": [],
   "source": [
    "class MLPModel(chainer.Chain):\n",
    "    def __init__(self, n_in, n_units, n_out):\n",
    "        super(MLPModel, self).__init__(\n",
    "            l1 = L.Linear(n_in, n_units),\n",
    "            l2 = L.Linear(n_units, n_units),\n",
    "            l3 = L.Linear(n_units, n_out),\n",
    "        )\n",
    "    \n",
    "    def __call__(self, x):\n",
    "        h1 = F.relu(self.l1(x))\n",
    "        h2 = F.relu(self.l2(h1))\n",
    "        return self.l3(h2)"
   ]
  },
  {
   "cell_type": "code",
   "execution_count": 9,
   "metadata": {
    "collapsed": true
   },
   "outputs": [],
   "source": [
    "net = MLPModel(784, n_units, 10)"
   ]
  },
  {
   "cell_type": "code",
   "execution_count": 10,
   "metadata": {
    "collapsed": true
   },
   "outputs": [],
   "source": [
    "model = L.Classifier(net)"
   ]
  },
  {
   "cell_type": "code",
   "execution_count": 11,
   "metadata": {
    "collapsed": true
   },
   "outputs": [],
   "source": [
    "optimizer = optimizers.Adam()\n",
    "optimizer.setup(model)"
   ]
  },
  {
   "cell_type": "code",
   "execution_count": 12,
   "metadata": {
    "collapsed": false,
    "scrolled": true
   },
   "outputs": [],
   "source": [
    "mod = serializers.load_npz(\"mlp.model\", model)"
   ]
  },
  {
   "cell_type": "code",
   "execution_count": 13,
   "metadata": {
    "collapsed": true
   },
   "outputs": [],
   "source": [
    "def draw_digit(data):\n",
    "    size = 28\n",
    "    plt.figure(figsize=(2.5, 3))\n",
    "\n",
    "    X, Y = np.meshgrid(range(size),range(size))\n",
    "    Z = data.reshape(size,size)   # convert from vector to 28x28 matrix\n",
    "    Z = Z[::-1,:]             # flip vertical\n",
    "    plt.xlim(0,27)\n",
    "    plt.ylim(0,27)\n",
    "    plt.pcolor(X, Y, Z)\n",
    "    plt.gray()\n",
    "    plt.tick_params(labelbottom=\"off\")\n",
    "    plt.tick_params(labelleft=\"off\")\n",
    "\n",
    "    plt.show()"
   ]
  },
  {
   "cell_type": "code",
   "execution_count": 14,
   "metadata": {
    "collapsed": true
   },
   "outputs": [],
   "source": [
    "def plotdata(num):\n",
    "    x_data = Variable(x_train[[num]])\n",
    "    y_data = y_train[num]\n",
    "    x_num = list(mlp(x_data).data[0])\n",
    "    ans = x_num.index(max(x_num))\n",
    "    print(\"ans=%d, reg=%d\" % (ans, y_data))\n",
    "    draw_digit(x_train[num])"
   ]
  },
  {
   "cell_type": "code",
   "execution_count": 17,
   "metadata": {
    "collapsed": true
   },
   "outputs": [],
   "source": [
    "def get_uncorrect(num):\n",
    "    d = 0\n",
    "    while d <= num:\n",
    "        rand = np.random.randint(0, N)\n",
    "        x_data = Variable(x_train[[rand]])\n",
    "        y_data = y_train[rand]\n",
    "        x_num = list(mlp(x_data).data[0])\n",
    "        ans = x_num.index(max(x_num))\n",
    "        if ans != y_data:\n",
    "            print(\"ans=%d, reg=%d\" % (ans, y_data))\n",
    "            draw_digit(x_train[rand])\n",
    "            d += 1\n",
    "        else:\n",
    "            continue"
   ]
  },
  {
   "cell_type": "code",
   "execution_count": 18,
   "metadata": {
    "collapsed": true
   },
   "outputs": [],
   "source": [
    "def get_correct(num):\n",
    "    d = 0\n",
    "    while d <= num:\n",
    "        rand = np.random.randint(0, N)\n",
    "        x_data = Variable(x_train[[rand]])\n",
    "        y_data = y_train[rand]\n",
    "        x_num = list(mlp(x_data).data[0])\n",
    "        ans = x_num.index(max(x_num))\n",
    "        if ans == y_data:\n",
    "            print(\"ans=%d, reg=%d\" % (ans, y_data))\n",
    "            draw_digit(x_train[rand])\n",
    "            d += 1\n",
    "        else:\n",
    "            continue"
   ]
  },
  {
   "cell_type": "code",
   "execution_count": null,
   "metadata": {
    "collapsed": true
   },
   "outputs": [],
   "source": []
  }
 ],
 "metadata": {
  "kernelspec": {
   "display_name": "Python 3",
   "language": "python",
   "name": "python3"
  },
  "language_info": {
   "codemirror_mode": {
    "name": "ipython",
    "version": 3
   },
   "file_extension": ".py",
   "mimetype": "text/x-python",
   "name": "python",
   "nbconvert_exporter": "python",
   "pygments_lexer": "ipython3",
   "version": "3.4.0"
  }
 },
 "nbformat": 4,
 "nbformat_minor": 0
}

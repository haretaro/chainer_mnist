{
 "cells": [
  {
   "cell_type": "code",
   "execution_count": 21,
   "metadata": {
    "collapsed": true
   },
   "outputs": [],
   "source": [
    "%matplotlib inline\n",
    "import matplotlib.pyplot as plt\n",
    "import time\n",
    "import six\n",
    "import numpy as np\n",
    "from sklearn.datasets import fetch_mldata\n",
    "import chainer\n",
    "from chainer import cuda, Function, gradient_check, Variable, optimizers, serializers, utils\n",
    "import chainer.functions as F\n",
    "import chainer.links as L"
   ]
  },
  {
   "cell_type": "code",
   "execution_count": 22,
   "metadata": {
    "collapsed": true
   },
   "outputs": [],
   "source": [
    "plt.style.use('ggplot')"
   ]
  },
  {
   "cell_type": "code",
   "execution_count": 23,
   "metadata": {
    "collapsed": true
   },
   "outputs": [],
   "source": [
    "batchsize = 100\n",
    "n_epoch = 4\n",
    "n_units = 1000\n",
    "\n",
    "mnist = fetch_mldata('MNIST original')\n",
    "mnist.data = mnist.data.astype(np.float32)\n",
    "mnist.data /= 255\n",
    "\n",
    "mnist.target = mnist.target.astype(np.int32)"
   ]
  },
  {
   "cell_type": "code",
   "execution_count": 24,
   "metadata": {
    "collapsed": false
   },
   "outputs": [],
   "source": [
    "N = 60000\n",
    "x_train, x_test = np.split(mnist.data, [N])\n",
    "y_train, y_test = np.split(mnist.target, [N])\n",
    "N_test = y_test.size"
   ]
  },
  {
   "cell_type": "code",
   "execution_count": 25,
   "metadata": {
    "collapsed": true
   },
   "outputs": [],
   "source": [
    "class MLPModel(chainer.Chain):\n",
    "    def __init__(self, n_in, n_units, n_out):\n",
    "        super(MLPModel, self).__init__(\n",
    "            l1 = L.Linear(n_in, n_units),\n",
    "            l2 = L.Linear(n_units, n_units),\n",
    "            l3 = L.Linear(n_units, n_out),\n",
    "        )\n",
    "    \n",
    "    def __call__(self, x):\n",
    "        h1 = F.relu(self.l1(x))\n",
    "        h2 = F.relu(self.l2(h1))\n",
    "        return self.l3(h2)"
   ]
  },
  {
   "cell_type": "code",
   "execution_count": 26,
   "metadata": {
    "collapsed": true
   },
   "outputs": [],
   "source": [
    "mlp = MLPModel(784, n_units, 10)"
   ]
  },
  {
   "cell_type": "code",
   "execution_count": 27,
   "metadata": {
    "collapsed": true
   },
   "outputs": [],
   "source": [
    "model = L.Classifier(mlp)"
   ]
  },
  {
   "cell_type": "code",
   "execution_count": 28,
   "metadata": {
    "collapsed": true
   },
   "outputs": [],
   "source": [
    "optimizer = optimizers.Adam()\n",
    "optimizer.setup(model)"
   ]
  },
  {
   "cell_type": "code",
   "execution_count": 42,
   "metadata": {
    "collapsed": false,
    "scrolled": true
   },
   "outputs": [
    {
     "name": "stdout",
     "output_type": "stream",
     "text": [
      "epoch 1\n",
      "train mean loss=0.01709690570980759, accuracy=0.9945833384990692, throughput=1363.3174770228936 images/sec\n",
      "test mean loss=0.08803424149994044, accuracy=0.9808000057935715\n",
      "epoch 2\n",
      "train mean loss=0.014054957290633562, accuracy=0.9956833372513453, throughput=1389.1311807986306 images/sec\n",
      "test mean loss=0.09408636926516797, accuracy=0.9793000054359436\n",
      "epoch 3\n",
      "train mean loss=0.012565056826191115, accuracy=0.9960833369692167, throughput=1416.3982956972354 images/sec\n",
      "test mean loss=0.09554304263956269, accuracy=0.9808000075817108\n",
      "epoch 4\n",
      "train mean loss=0.012985844011148705, accuracy=0.9960833370685578, throughput=1422.8558473661112 images/sec\n",
      "test mean loss=0.08983004832065432, accuracy=0.981600005030632\n",
      "save the model\n",
      "save the optimizer\n"
     ]
    }
   ],
   "source": [
    "test_accuracy = []\n",
    "train_accuracy = []\n",
    "for epoch in range(1, n_epoch + 1):\n",
    "    print(\"epoch\", epoch)\n",
    "    \n",
    "    perm = np.random.permutation(N)\n",
    "    sum_accuracy = 0\n",
    "    sum_loss = 0\n",
    "    start = time.time()\n",
    "    for i in range(0, N, batchsize):\n",
    "        x = Variable(x_train[perm[i : i + batchsize]])\n",
    "        t = Variable(y_train[perm[i : i + batchsize]])\n",
    "        \n",
    "        optimizer.update(model, x, t)\n",
    "        \n",
    "        sum_loss += float(model.loss.data) * len(t.data)\n",
    "        sum_accuracy += float(model.accuracy.data) * len(t.data)\n",
    "    \n",
    "    end = time.time()\n",
    "    elapsed_time = end - start\n",
    "    throughput = N / elapsed_time\n",
    "    train_accuracy.append(sum_accuracy / N)\n",
    "    print('train mean loss={}, accuracy={}, throughput={} images/sec'.format(\n",
    "        sum_loss / N, sum_accuracy / N, throughput))\n",
    "    \n",
    "    # 照合\n",
    "    sum_accuracy = 0\n",
    "    sum_loss = 0\n",
    "    for i in range(0, N_test, batchsize):\n",
    "        x = Variable(x_test[i : i + batchsize], volatile='on')\n",
    "        t = Variable(y_test[i : i + batchsize], volatile='on')\n",
    "        loss = model(x, t)\n",
    "        sum_loss += float(loss.data) * len(t.data)\n",
    "        sum_accuracy += float(model.accuracy.data) * len(t.data)\n",
    "    \n",
    "    test_accuracy.append(sum_accuracy/N_test)\n",
    "    print('test mean loss={}, accuracy={}'.format(\n",
    "        sum_loss / N_test, sum_accuracy / N_test))\n",
    "\n",
    "print('save the model')\n",
    "serializers.save_npz('mlp.model', model)\n",
    "print('save the optimizer')\n",
    "serializers.save_npz('mlp.state', optimizer)\n"
   ]
  },
  {
   "cell_type": "code",
   "execution_count": 46,
   "metadata": {
    "collapsed": false
   },
   "outputs": [
    {
     "data": {
      "text/plain": [
       "<matplotlib.legend.Legend at 0x10985dcc0>"
      ]
     },
     "execution_count": 46,
     "metadata": {},
     "output_type": "execute_result"
    },
    {
     "data": {
      "image/png": "[encoded data removed]",
      "text/plain": [
       "<matplotlib.figure.Figure at 0x1082814e0>"
      ]
     },
     "metadata": {},
     "output_type": "display_data"
    }
   ],
   "source": [
    "plt.plot(train_accuracy,label='train accuracy')\n",
    "plt.plot(test_accuracy,label='test accuracy')\n",
    "plt.legend(loc='lower right')"
   ]
  },
  {
   "cell_type": "code",
   "execution_count": null,
   "metadata": {
    "collapsed": true
   },
   "outputs": [],
   "source": []
  }
 ],
 "metadata": {
  "kernelspec": {
   "display_name": "Python 3",
   "language": "python",
   "name": "python3"
  },
  "language_info": {
   "codemirror_mode": {
    "name": "ipython",
    "version": 3
   },
   "file_extension": ".py",
   "mimetype": "text/x-python",
   "name": "python",
   "nbconvert_exporter": "python",
   "pygments_lexer": "ipython3",
   "version": "3.5.1"
  }
 },
 "nbformat": 4,
 "nbformat_minor": 0
}
